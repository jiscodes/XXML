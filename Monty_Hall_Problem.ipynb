{
 "cells": [
  {
   "cell_type": "markdown",
   "metadata": {},
   "source": [
    "## Monty Hall problem\n",
    "\n",
    ">Suppose you're on a game show, and you're given the choice of three doors: Behind one door is a car; behind the others, goats. You pick a door, say No. 1, and the host, who knows what's behind the doors, opens another door, say No. 3, which has a goat. He then says to you, \"Do you want to pick door No. 2?\" Is it to your advantage to switch your choice?\n",
    "\n"
   ]
  },
  {
   "cell_type": "code",
   "execution_count": 31,
   "metadata": {},
   "outputs": [
    {
     "name": "stdout",
     "output_type": "stream",
     "text": [
      "initial choice: 0.32\n",
      "if change mind: 0.68\n"
     ]
    }
   ],
   "source": [
    "from random import choice\n",
    "\n",
    "def door_init():\n",
    "    doores = {1:'goats', 2:'goats', 3:'goats'}\n",
    "    door_real_no = choice(list(doores.keys()))\n",
    "    doores[door_real_no] = 'car'\n",
    "    return doores, door_real_no\n",
    "\n",
    "door_choose_right = 0\n",
    "door_remain_right = 0\n",
    "exp_times = 100\n",
    "\n",
    "for i in range(exp_times):\n",
    "    doores, door_real_no = door_init()\n",
    "    doores_index = list(doores.keys())\n",
    "    \n",
    "    door_choose_no = choice(doores_index) # the player random choose a door\n",
    "    \n",
    "    doores_index.remove(door_choose_no) # remove the door number choosed by the player\n",
    "    \n",
    "    if door_real_no in doores_index:\n",
    "        doores_index.remove(door_real_no) # remove the actural door number \n",
    "        \n",
    "    door_open_no = choice(doores_index) # the host certainly open the door without a car\n",
    "    \n",
    "    if doores[door_choose_no] == 'car':\n",
    "        door_choose_right += 1\n",
    "    else:\n",
    "        door_remain_right += 1\n",
    "        \n",
    "print('initial choice: {}'.format(door_choose_right/exp_times))\n",
    "print('if change mind: {}'.format(door_remain_right/exp_times))"
   ]
  },
  {
   "cell_type": "code",
   "execution_count": null,
   "metadata": {},
   "outputs": [],
   "source": []
  }
 ],
 "metadata": {
  "kernelspec": {
   "display_name": "Python (pytorch)",
   "language": "python",
   "name": "pytorch"
  },
  "language_info": {
   "codemirror_mode": {
    "name": "ipython",
    "version": 3
   },
   "file_extension": ".py",
   "mimetype": "text/x-python",
   "name": "python",
   "nbconvert_exporter": "python",
   "pygments_lexer": "ipython3",
   "version": "3.6.4"
  }
 },
 "nbformat": 4,
 "nbformat_minor": 2
}
